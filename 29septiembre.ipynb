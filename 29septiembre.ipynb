{
  "nbformat": 4,
  "nbformat_minor": 0,
  "metadata": {
    "colab": {
      "name": "Untitled0.ipynb",
      "provenance": [],
      "toc_visible": true,
      "authorship_tag": "ABX9TyNtzmFwIREeGkqLW5QFtQ/R",
      "include_colab_link": true
    },
    "kernelspec": {
      "name": "python3",
      "display_name": "Python 3"
    }
  },
  "cells": [
    {
      "cell_type": "markdown",
      "metadata": {
        "id": "view-in-github",
        "colab_type": "text"
      },
      "source": [
        "<a href=\"https://colab.research.google.com/github/GabrielED39/edd_1310_2021/blob/master/29septiembre.ipynb\" target=\"_parent\"><img src=\"https://colab.research.google.com/assets/colab-badge.svg\" alt=\"Open In Colab\"/></a>"
      ]
    },
    {
      "cell_type": "code",
      "metadata": {
        "id": "OAWZoBBissJD"
      },
      "source": [
        "edad = 10"
      ],
      "execution_count": 3,
      "outputs": []
    },
    {
      "cell_type": "code",
      "metadata": {
        "id": "D869ajSuvKk0",
        "outputId": "4b8af387-bafa-41be-e181-acaf87c3501b",
        "colab": {
          "base_uri": "https://localhost:8080/",
          "height": 54
        }
      },
      "source": [
        "print(edad)\n",
        "colores = ['rojo','azul','verde','morado','violeta']\n",
        "print(colores)"
      ],
      "execution_count": 5,
      "outputs": [
        {
          "output_type": "stream",
          "text": [
            "10\n",
            "['rojo', 'azul', 'verde', 'morado', 'violeta']\n"
          ],
          "name": "stdout"
        }
      ]
    },
    {
      "cell_type": "code",
      "metadata": {
        "id": "44goKqrqwUdr",
        "outputId": "9e8b4dac-4199-4a32-e530-c076f967d41c",
        "colab": {
          "base_uri": "https://localhost:8080/",
          "height": 35
        }
      },
      "source": [
        "print(colores[3])"
      ],
      "execution_count": 11,
      "outputs": [
        {
          "output_type": "stream",
          "text": [
            "morado\n"
          ],
          "name": "stdout"
        }
      ]
    },
    {
      "cell_type": "code",
      "metadata": {
        "id": "thbYqNpsw6_R",
        "outputId": "321dcd86-4579-493d-9202-767bc173189e",
        "colab": {
          "base_uri": "https://localhost:8080/",
          "height": 72
        }
      },
      "source": [
        "print(colores[3][2:4])\n",
        "nombre = 'Alberto'\n",
        "print(nombre[0])\n",
        "print(nombre[0:3:1])"
      ],
      "execution_count": 15,
      "outputs": [
        {
          "output_type": "stream",
          "text": [
            "ra\n",
            "A\n",
            "Alb\n"
          ],
          "name": "stdout"
        }
      ]
    },
    {
      "cell_type": "markdown",
      "metadata": {
        "id": "lW0Ys3OfyMeS"
      },
      "source": [
        "# For en Python 3\n",
        "2 variantes\n",
        "1. j in range (ini, tope, incremento)\n",
        "2. in [iterador] (lista o dupla arreglo)"
      ]
    },
    {
      "cell_type": "code",
      "metadata": {
        "id": "_FFJdsIpyEd6",
        "outputId": "700b9028-86fa-4928-8d73-49b4897d3a90",
        "colab": {
          "base_uri": "https://localhost:8080/",
          "height": 109
        }
      },
      "source": [
        "for j in range(0,5,1):\n",
        "  print(colores[j])"
      ],
      "execution_count": 19,
      "outputs": [
        {
          "output_type": "stream",
          "text": [
            "rojo\n",
            "azul\n",
            "verde\n",
            "morado\n",
            "violeta\n"
          ],
          "name": "stdout"
        }
      ]
    },
    {
      "cell_type": "code",
      "metadata": {
        "id": "djk4A3mIz03o",
        "outputId": "178b0b14-b2b0-4a38-f796-9e92ea02949a",
        "colab": {
          "base_uri": "https://localhost:8080/",
          "height": 109
        }
      },
      "source": [
        "for color in colores:\n",
        "  print(color)"
      ],
      "execution_count": 22,
      "outputs": [
        {
          "output_type": "stream",
          "text": [
            "rojo\n",
            "azul\n",
            "verde\n",
            "morado\n",
            "violeta\n"
          ],
          "name": "stdout"
        }
      ]
    },
    {
      "cell_type": "code",
      "metadata": {
        "id": "wSXOE9Rz0hTU",
        "outputId": "d18f62d2-0437-4f82-cd49-35650ee7531f",
        "colab": {
          "base_uri": "https://localhost:8080/",
          "height": 146
        }
      },
      "source": [
        "for j in range(0,len(nombre),1):\n",
        "  print(nombre[j])"
      ],
      "execution_count": 23,
      "outputs": [
        {
          "output_type": "stream",
          "text": [
            "A\n",
            "l\n",
            "b\n",
            "e\n",
            "r\n",
            "t\n",
            "o\n"
          ],
          "name": "stdout"
        }
      ]
    },
    {
      "cell_type": "code",
      "metadata": {
        "id": "RFlKsunI070l",
        "outputId": "8b874619-4419-479e-9732-6e1a9bfca225",
        "colab": {
          "base_uri": "https://localhost:8080/",
          "height": 146
        }
      },
      "source": [
        "for nom in nombre:\n",
        "  print(nom)"
      ],
      "execution_count": 25,
      "outputs": [
        {
          "output_type": "stream",
          "text": [
            "A\n",
            "l\n",
            "b\n",
            "e\n",
            "r\n",
            "t\n",
            "o\n"
          ],
          "name": "stdout"
        }
      ]
    },
    {
      "cell_type": "markdown",
      "metadata": {
        "id": "7fHH89221nJ7"
      },
      "source": [
        "# Que es Markdown\n",
        "Markdown es un lenguaje de marcado para documentar codigo. El ibjetivo es simplificar la escritura de lenguaje HTML.\n",
        "___\n",
        "**negritas**\n",
        "***\n",
        "Más informacion en: [Github Cheatsheet markdown] (https://github.com/adam-p/markdown-here/wiki/Markdown-Cheatsheet#links)\n",
        "***\n",
        "# Insertar imagen\n",
        "![nombre](https://upload.wikimedia.org/wikipedia/commons/5/51/Aragon_Jonhy_corel.jpg)"
      ]
    }
  ]
}