{
  "nbformat": 4,
  "nbformat_minor": 0,
  "metadata": {
    "colab": {
      "name": "15octubre_1310.ipynb",
      "provenance": [],
      "authorship_tag": "ABX9TyOuveOr1wNxT1wDbK7WkS0P",
      "include_colab_link": true
    },
    "kernelspec": {
      "name": "python3",
      "display_name": "Python 3"
    }
  },
  "cells": [
    {
      "cell_type": "markdown",
      "metadata": {
        "id": "view-in-github",
        "colab_type": "text"
      },
      "source": [
        "<a href=\"https://colab.research.google.com/github/GabrielED39/edd_1310_2021/blob/master/15octubre_1310.ipynb\" target=\"_parent\"><img src=\"https://colab.research.google.com/assets/colab-badge.svg\" alt=\"Open In Colab\"/></a>"
      ]
    },
    {
      "cell_type": "markdown",
      "metadata": {
        "id": "c14szmb2B0Dw"
      },
      "source": [
        "#Módulos\n",
        "Son recursos reutilizables que contienen varias funciones que pueden ser importadas a tu código"
      ]
    },
    {
      "cell_type": "code",
      "metadata": {
        "id": "-vfSV7ow_EJ4",
        "outputId": "5e9787bb-0c26-44c0-8372-593ac99c9151",
        "colab": {
          "base_uri": "https://localhost:8080/",
          "height": 54
        }
      },
      "source": [
        "\"\"\"\n",
        "import mi_modulo\n",
        "\n",
        "x = mi_modulo.sumar( 4, 7 )\n",
        "print(x)\n",
        "print(mi_modulo.multiplicar( 4, 7 ))\n",
        "\"\"\"\n"
      ],
      "execution_count": 4,
      "outputs": [
        {
          "output_type": "stream",
          "text": [
            "11\n",
            "28\n"
          ],
          "name": "stdout"
        }
      ]
    },
    {
      "cell_type": "code",
      "metadata": {
        "id": "M9-P0T7bKR5Q",
        "outputId": "f8929f2f-61ad-4001-9e7a-cd3cbd865aac",
        "colab": {
          "base_uri": "https://localhost:8080/",
          "height": 54
        }
      },
      "source": [
        "from mi_modulo import sumar,dividir ##llamar un elemento especifico del modulo\n",
        "print(sumar(4,7))\n",
        "print(dividir(4,7))"
      ],
      "execution_count": 19,
      "outputs": [
        {
          "output_type": "stream",
          "text": [
            "11\n",
            "0.5714285714285714\n"
          ],
          "name": "stdout"
        }
      ]
    },
    {
      "cell_type": "code",
      "metadata": {
        "id": "L2St7xOxLNrQ",
        "outputId": "a8b62e39-0662-477a-b082-45d215660678",
        "colab": {
          "base_uri": "https://localhost:8080/",
          "height": 35
        }
      },
      "source": [
        "import mi_modulo as patito #poner alias al modulo\n",
        "\n",
        "print(patito.sumar(4,6))\n",
        "\n"
      ],
      "execution_count": 18,
      "outputs": [
        {
          "output_type": "stream",
          "text": [
            "10\n"
          ],
          "name": "stdout"
        }
      ]
    },
    {
      "cell_type": "code",
      "metadata": {
        "id": "zx-LK8KZN_A_"
      },
      "source": [
        "pip install joke-generator "
      ],
      "execution_count": null,
      "outputs": []
    },
    {
      "cell_type": "code",
      "metadata": {
        "id": "Pd5R5BFBPqEY",
        "outputId": "d66bf63f-d117-422c-9960-069e7fd8832f",
        "colab": {
          "base_uri": "https://localhost:8080/",
          "height": 36
        }
      },
      "source": [
        "from joke_generator  import generate\n",
        "\n",
        "generate()"
      ],
      "execution_count": 26,
      "outputs": [
        {
          "output_type": "execute_result",
          "data": {
            "application/vnd.google.colaboratory.intrinsic+json": {
              "type": "string"
            },
            "text/plain": [
              "\"I wouldn't buy anything with velcro. It's a total rip-off.\""
            ]
          },
          "metadata": {
            "tags": []
          },
          "execution_count": 26
        }
      ]
    },
    {
      "cell_type": "markdown",
      "metadata": {
        "id": "2XpfgiVYSQXv"
      },
      "source": [
        "#Archivos\n",
        "- open( str, str)\n",
        "  1. Nombre o ruta del archivo\n",
        "  2. Dos caracteres\n",
        "    - Modo apertura del archivo (r, w, a append si y solo si el archivo SI existe, x append si y solo si el archivo NO existe)\n",
        "    - Formato del archivo (texto o binario)"
      ]
    },
    {
      "cell_type": "code",
      "metadata": {
        "id": "7qidflBLSuMo"
      },
      "source": [
        "#escribir en archvo\n",
        "archivo = open(\"saludo.txt\",\"wt\")\n",
        "archivo.write(\"Hola mundo \\n Ola ke ase\")\n",
        "archivo.close()"
      ],
      "execution_count": 28,
      "outputs": []
    },
    {
      "cell_type": "code",
      "metadata": {
        "id": "1DScomoOUbu7",
        "outputId": "fc873f06-026a-4858-d0fd-f468d4bcd789",
        "colab": {
          "base_uri": "https://localhost:8080/",
          "height": 146
        }
      },
      "source": [
        "#Leer archivo\n",
        "otro = open('./sample_data/anscombe.json','rt') #rt lee er archivo en texto, rb en binario\n",
        "datos = otro.read()\n",
        "#print(datos)\n",
        "otro.close()\n",
        "\n",
        "arch = open('frutas.txt','rt')\n",
        "print(arch.readline()) #readline lee una linea de cualquier txt (solo una)\n",
        "print(arch.readline()) #lee la siguiete linea (donde se quedo el cursor)\n",
        "data = 'ppp'\n",
        "while (data != ''):\n",
        "  data = arch.readline()\n",
        "  print(data)\n",
        "arch.close()\n",
        "\n",
        "arch = open('frutas.txt','rt')\n",
        "list_frutas = arch.readlines()\n",
        "print(list_frutas)"
      ],
      "execution_count": 38,
      "outputs": [
        {
          "output_type": "stream",
          "text": [
            "manzana,pera,kiwi ,aguacate\n",
            "\n",
            "limon, naranja\n",
            "\n",
            "sandia,papaya\n",
            "\n",
            "['manzana,pera,kiwi ,aguacate\\n', 'limon, naranja\\n', 'sandia,papaya']\n"
          ],
          "name": "stdout"
        }
      ]
    },
    {
      "cell_type": "code",
      "metadata": {
        "id": "UGR9DxdOWnI1"
      },
      "source": [
        ""
      ],
      "execution_count": null,
      "outputs": []
    }
  ]
}