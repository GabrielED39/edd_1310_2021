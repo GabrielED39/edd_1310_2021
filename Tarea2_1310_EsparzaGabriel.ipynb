{
  "nbformat": 4,
  "nbformat_minor": 0,
  "metadata": {
    "colab": {
      "name": "Tarea2_1310.ipynb",
      "provenance": [],
      "collapsed_sections": [],
      "authorship_tag": "ABX9TyNe3jX1XlXKoBsB08nLMUtx",
      "include_colab_link": true
    },
    "kernelspec": {
      "name": "python3",
      "display_name": "Python 3"
    }
  },
  "cells": [
    {
      "cell_type": "markdown",
      "metadata": {
        "id": "view-in-github",
        "colab_type": "text"
      },
      "source": [
        "<a href=\"https://colab.research.google.com/github/GabrielED39/edd_1310_2021/blob/master/Tarea2_1310_EsparzaGabriel.ipynb\" target=\"_parent\"><img src=\"https://colab.research.google.com/assets/colab-badge.svg\" alt=\"Open In Colab\"/></a>"
      ]
    },
    {
      "cell_type": "code",
      "metadata": {
        "id": "F-bdOQo1U30f",
        "outputId": "a5afa9e6-5c92-4660-e63d-b18eb9152442",
        "colab": {
          "base_uri": "https://localhost:8080/",
          "height": 219
        }
      },
      "source": [
        "#SUBIR EL ARCHIVO \"Datos.txt\" A LA RUTA \"/content/sample_data\"\n",
        "def sumaLinea(linea):\n",
        "  sum = 0\n",
        "  for w in linea:\n",
        "    num = w.strip()\n",
        "    sum += int(num)\n",
        "  return sum\n",
        "\n",
        "archivo = open('/content/sample_data/Datos.txt','rt')\n",
        "m = 0\n",
        "total = 0\n",
        "while m < 30 :\n",
        "  a = archivo.readline().split(',')\n",
        "  m +=1\n",
        "  if a[0].strip() == '':\n",
        "    continue\n",
        "  sumar = sumaLinea(a)\n",
        "  total += sumar\n",
        "  print(\"La suma de la linea es: \",sumar)\n",
        "print(\"La suma total de las lineas es igual a: \",total)"
      ],
      "execution_count": 76,
      "outputs": [
        {
          "output_type": "stream",
          "text": [
            "La suma de la linea es:  406\n",
            "La suma de la linea es:  367\n",
            "La suma de la linea es:  814\n",
            "La suma de la linea es:  391\n",
            "La suma de la linea es:  786\n",
            "La suma de la linea es:  513\n",
            "La suma de la linea es:  745\n",
            "La suma de la linea es:  585\n",
            "La suma de la linea es:  154\n",
            "La suma de la linea es:  220\n",
            "La suma total de las lineas es igual a:  4981\n"
          ],
          "name": "stdout"
        }
      ]
    }
  ]
}