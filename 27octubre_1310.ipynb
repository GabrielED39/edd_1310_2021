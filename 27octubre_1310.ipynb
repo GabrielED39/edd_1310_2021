{
  "nbformat": 4,
  "nbformat_minor": 0,
  "metadata": {
    "colab": {
      "name": "27octubre_1310.ipynb",
      "provenance": [],
      "authorship_tag": "ABX9TyM5AI/yf38rl5dqt5KIPp/r",
      "include_colab_link": true
    },
    "kernelspec": {
      "name": "python3",
      "display_name": "Python 3"
    }
  },
  "cells": [
    {
      "cell_type": "markdown",
      "metadata": {
        "id": "view-in-github",
        "colab_type": "text"
      },
      "source": [
        "<a href=\"https://colab.research.google.com/github/GabrielED39/edd_1310_2021/blob/master/27octubre_1310.ipynb\" target=\"_parent\"><img src=\"https://colab.research.google.com/assets/colab-badge.svg\" alt=\"Open In Colab\"/></a>"
      ]
    },
    {
      "cell_type": "code",
      "metadata": {
        "id": "0w71p1qABjVk"
      },
      "source": [
        "class Computadora:\n",
        "    def __init__( self , m , p):\n",
        "        self.__marca = m\n",
        "        self.__procesador = p\n",
        "\n",
        "    def to_string( self ):\n",
        "        return \"MArca:\"+self.__marca+\" Procesador:\"+self.__procesador #mi MARCA tiene los guines bajos es porque es privada y NO se puede cambiar\n",
        "\n",
        "    def set_marca(self , m): #self se requiere para que python funcione con objetos\n",
        "      self.__marca = m\n",
        "\n",
        "    def get_marca( self ):\n",
        "      return self.__marca\n",
        "\n",
        "    def set_procesador(self,p):\n",
        "      self.__procesador = p\n",
        "\n",
        "    def get_procesador(self):\n",
        "      return self.__procesador\n",
        "\n",
        "mi_pc = Computadora(\"Toshiba\",\"Intel i7\")\n",
        "print(mi_pc.to_string())\n",
        "mi_pc.__marca=\"HP \" #Intentando cambiar el valor privado\n",
        "mi_pc.set_marca(\"Samsung\")\n",
        "print(mi_pc.to_string())\n",
        "#print(mi_pc.__procesador)\n",
        "print( mi_pc.get_procesador())"
      ],
      "execution_count": null,
      "outputs": []
    },
    {
      "cell_type": "markdown",
      "metadata": {
        "id": "8jrcrzRlEMQX"
      },
      "source": [
        "#Encapsulamiento Python\n",
        "##Tradicional tipo java\n",
        "- void setAtrubuto( val )\n",
        "- tipo getAtributo( )\n",
        "\n",
        "##Estilo Python 3\n",
        "UTILIZANDO DECORADORES\n",
        "- @property\n",
        "- @atributo.setter"
      ]
    },
    {
      "cell_type": "code",
      "metadata": {
        "id": "g-s86VEtHzY8",
        "outputId": "0bac11c9-41df-4121-d8e9-a1a51e1e68c0",
        "colab": {
          "base_uri": "https://localhost:8080/",
          "height": 109
        }
      },
      "source": [
        "class Computadora:\n",
        "  def __init__(self, m, p):\n",
        "    self.marca =  m #se manda a llamar el decorador @property\n",
        "    self.procesador = p #idem\n",
        "  \n",
        "\n",
        "  @property #declara como atrtributo privado y funciona como metodo get\n",
        "  def marca(self):\n",
        "    return self.__marca\n",
        "\n",
        "  @marca.setter #declara como metodo set\n",
        "  def marca(self,m):\n",
        "    print(\"En el metodo set de marca\")\n",
        "    self.__marca = m\n",
        "\n",
        "  @property #declara como atrtributo privado y funciona como metodo get\n",
        "  def procesador(self):\n",
        "    return self.__procesador\n",
        "\n",
        "  @procesador.setter #declara como metodo set\n",
        "  def procesador(self,p):\n",
        "    print(\"En el metodo set de procesador\")\n",
        "    self.__procesador = p\n",
        "\n",
        "\n",
        "  def to_string( self ):\n",
        "    return \"Marca: \" + self.marca + \"Procesador: \" + self.procesador\n",
        "\n",
        "mi_pc2 = Computadora(\"Mac Book pro \", \"Intel i7\")\n",
        "print(mi_pc2.to_string())\n",
        "mi_pc2.marca = \"Dell \" #se llama el metodo set marca\n",
        "print(mi_pc2.to_string())"
      ],
      "execution_count": 23,
      "outputs": [
        {
          "output_type": "stream",
          "text": [
            "En el metodo set de marca\n",
            "En el metodo set de procesador\n",
            "Marca: Mac Book pro Procesador: Intel i7\n",
            "En el metodo set de marca\n",
            "Marca: Dell Procesador: Intel i7\n"
          ],
          "name": "stdout"
        }
      ]
    },
    {
      "cell_type": "code",
      "metadata": {
        "id": "Ie90Rqw8QjrO",
        "outputId": "007968c5-5dc8-4c99-ccbc-3c3c2c1a2a9c",
        "colab": {
          "base_uri": "https://localhost:8080/",
          "height": 90
        }
      },
      "source": [
        "#herencia en python\n",
        "#herencia, pasamdo clase base a la declaracion\n",
        "class ServidorEmpresarial(Computadora):\n",
        "  def __init__(self):\n",
        "    print(\"Hola servidor\")\n",
        "\n",
        "server = ServidorEmpresarial()\n",
        "server.marca = \"Sun Micro Systems \"\n",
        "server.procesador = \"Intel i7\"\n",
        "print(server.to_string())"
      ],
      "execution_count": 28,
      "outputs": [
        {
          "output_type": "stream",
          "text": [
            "Hola servidor\n",
            "En el metodo set de marca\n",
            "En el metodo set de procesador\n",
            "Marca: Sun Micro Systems Procesador: Intel i7\n"
          ],
          "name": "stdout"
        }
      ]
    }
  ]
}