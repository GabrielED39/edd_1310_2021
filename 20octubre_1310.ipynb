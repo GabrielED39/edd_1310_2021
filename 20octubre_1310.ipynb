{
  "nbformat": 4,
  "nbformat_minor": 0,
  "metadata": {
    "colab": {
      "name": "20octubre_1310.ipynb",
      "provenance": [],
      "authorship_tag": "ABX9TyM1031EyMtlzjX/ke8XIqvz",
      "include_colab_link": true
    },
    "kernelspec": {
      "name": "python3",
      "display_name": "Python 3"
    }
  },
  "cells": [
    {
      "cell_type": "markdown",
      "metadata": {
        "id": "view-in-github",
        "colab_type": "text"
      },
      "source": [
        "<a href=\"https://colab.research.google.com/github/GabrielED39/edd_1310_2021/blob/master/20octubre_1310.ipynb\" target=\"_parent\"><img src=\"https://colab.research.google.com/assets/colab-badge.svg\" alt=\"Open In Colab\"/></a>"
      ]
    },
    {
      "cell_type": "code",
      "metadata": {
        "id": "7bQ7oq2Rue-n",
        "outputId": "a89af8df-fd44-4219-c1d1-763f9b1e36f9",
        "colab": {
          "base_uri": "https://localhost:8080/",
          "height": 293
        }
      },
      "source": [
        "archivo = open('/content/sample_data/numeros.txt')\n",
        "for linea in archivo.readlines()[:3:]: #slicing para que leea las lineas deseadas del archivo\n",
        "  for trunc in linea.split(','):\n",
        "    print(trunc.strip())"
      ],
      "execution_count": 10,
      "outputs": [
        {
          "output_type": "stream",
          "text": [
            "23\n",
            "23\n",
            "44\n",
            "55\n",
            "5\n",
            "44\n",
            "4\n",
            "5\n",
            "7\n",
            "7\n",
            "6\n",
            "5\n",
            "4\n",
            "2\n",
            "1\n"
          ],
          "name": "stdout"
        }
      ]
    },
    {
      "cell_type": "markdown",
      "metadata": {
        "id": "wiSxVC-c2oA8"
      },
      "source": [
        "#Sintaxis de for en Python\n",
        "\n",
        "Dos versiones\n",
        "1. range (funcion que regresa iterador)\n",
        "2. in iterator"
      ]
    },
    {
      "cell_type": "code",
      "metadata": {
        "id": "A7ditIGM20Mq"
      },
      "source": [
        "r = range(0,10,2)\n",
        "for x in r:\n",
        "  print(x)\n",
        "\n",
        "print(\"____________________________________\")\n",
        "colores = ['rojo','rosa','azul','amarillo'] #iterable: es un objeto que permite recorrer uno a uno los elementos almacenados en una estructura de datos, y operar con ellos\n",
        "\n",
        "\n",
        "#Para modificar los elementos\n",
        "for indice in range(0,len(colores),1): #igual a un **for (indice = 0;indice <4;indice++)** en java\n",
        "  #print(colores[indice])\n",
        "  colores[indice] = colores[indice] + \" faafa\"\n",
        "\n",
        "# for sobre un iterador\n",
        "#para imprimir\n",
        "for col in colores: \n",
        "  print(col)\n",
        "print(\"____________________________________\")\n"
      ],
      "execution_count": null,
      "outputs": []
    },
    {
      "cell_type": "markdown",
      "metadata": {
        "id": "7QXkZW6w79HF"
      },
      "source": [
        "#Generadores\n",
        "\n",
        "[\"hola\" for x in range(10)]"
      ]
    },
    {
      "cell_type": "code",
      "metadata": {
        "id": "vJdIgPHS8Vnk",
        "outputId": "454cba7c-2479-4b7f-e1f1-bc8d4c86720a",
        "colab": {
          "base_uri": "https://localhost:8080/",
          "height": 54
        }
      },
      "source": [
        "lista = [0 for x in range(10)] #Toma el \"0\" (en este caso)  y las coloca en lista\n",
        "print(lista)\n",
        "lista = [x for x in range(12)] #Toma el \"x\" (en este caso)  y las coloca en lista\n",
        "print(lista)\n"
      ],
      "execution_count": 27,
      "outputs": [
        {
          "output_type": "stream",
          "text": [
            "[0, 0, 0, 0, 0, 0, 0, 0, 0, 0]\n",
            "[0, 1, 2, 3, 4, 5, 6, 7, 8, 9, 10, 11]\n"
          ],
          "name": "stdout"
        }
      ]
    },
    {
      "cell_type": "markdown",
      "metadata": {
        "id": "YvlKELyi9Ig9"
      },
      "source": [
        "Matriz de 3x3\\\n",
        "[0,0,0],\\\n",
        "[0,0,0],\\\n",
        "[0,0,0]"
      ]
    },
    {
      "cell_type": "code",
      "metadata": {
        "id": "r-dsWGSj9cZl",
        "outputId": "f9596982-9115-4d1a-978c-912a5100bc8a",
        "colab": {
          "base_uri": "https://localhost:8080/",
          "height": 35
        }
      },
      "source": [
        "lista = [[0,0,0] for x in range(3)]\n",
        "print(lista)"
      ],
      "execution_count": 28,
      "outputs": [
        {
          "output_type": "stream",
          "text": [
            "[[0, 0, 0], [0, 0, 0], [0, 0, 0]]\n"
          ],
          "name": "stdout"
        }
      ]
    },
    {
      "cell_type": "code",
      "metadata": {
        "id": "KxZg3uRk901u",
        "outputId": "7be97b1a-98f4-4758-ed92-e134cef152fa",
        "colab": {
          "base_uri": "https://localhost:8080/",
          "height": 35
        }
      },
      "source": [
        "ren = 5\n",
        "col = 3\n",
        "lista = [[0 for x in range(col)] for z in range(ren)]\n",
        "print(lista)"
      ],
      "execution_count": 42,
      "outputs": [
        {
          "output_type": "stream",
          "text": [
            "[[0, 0, 0], [0, 0, 0], [0, 0, 0], [0, 0, 0], [0, 0, 0]]\n"
          ],
          "name": "stdout"
        }
      ]
    },
    {
      "cell_type": "markdown",
      "metadata": {
        "id": "YCH_5Diu_H8e"
      },
      "source": [
        "#POO en Python\n",
        "- clase\n",
        "- creacion de objetos\n",
        "- constructor\n",
        "- encapsulamiento\n",
        "- metodos\n",
        "- atributos\n",
        "- herencia"
      ]
    },
    {
      "cell_type": "code",
      "metadata": {
        "id": "UOUjjh9d_X02",
        "outputId": "7d8d75ed-ff7e-4c85-aebf-5e5809b7f6b9",
        "colab": {
          "base_uri": "https://localhost:8080/",
          "height": 35
        }
      },
      "source": [
        "#Definir clase\n",
        "class Computadora:\n",
        "  def __init__(self , m , p): # __init__ SIEMPRE se llama a si mismo (tambien, SIEMPRE lleva dos guiones bajos)\n",
        "    #print(\"creando el objeto\")\n",
        "    self.__marca = m #CON LOS DOS GUIONES BAJOS SE HACE PRIVADA\n",
        "    self.__procesador = p\n",
        "\n",
        "  def to_string(self): #self: mecanismo para que python se comporte como un programa orientado a objetos\n",
        "    return \"Marca: \"+self.__marca+\"Procesador: \"+self.__procesador\n",
        "\n",
        "mi_pc = Computadora(\"Toshiba \",\"Intel i7 \") #se comprueba que el iniciador es invocado\n",
        "mi_pc.__marca = \"HP \" #va en contra del capsulamiento\n",
        "print(mi_pc.to_string())"
      ],
      "execution_count": 49,
      "outputs": [
        {
          "output_type": "stream",
          "text": [
            "Marca: Toshiba Procesador: Intel i7\n"
          ],
          "name": "stdout"
        }
      ]
    }
  ]
}