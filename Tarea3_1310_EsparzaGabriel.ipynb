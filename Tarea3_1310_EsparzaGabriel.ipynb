{
  "nbformat": 4,
  "nbformat_minor": 0,
  "metadata": {
    "colab": {
      "name": "Tarea3_1310_EsparzaGabriel.ipynb",
      "provenance": [],
      "collapsed_sections": [],
      "authorship_tag": "ABX9TyMpV3tMZGAZoOMeIw89yURW",
      "include_colab_link": true
    },
    "kernelspec": {
      "name": "python3",
      "display_name": "Python 3"
    }
  },
  "cells": [
    {
      "cell_type": "markdown",
      "metadata": {
        "id": "view-in-github",
        "colab_type": "text"
      },
      "source": [
        "<a href=\"https://colab.research.google.com/github/GabrielED39/edd_1310_2021/blob/master/Tarea3_1310_EsparzaGabriel.ipynb\" target=\"_parent\"><img src=\"https://colab.research.google.com/assets/colab-badge.svg\" alt=\"Open In Colab\"/></a>"
      ]
    },
    {
      "cell_type": "markdown",
      "metadata": {
        "id": "CATz5zWI2vSy"
      },
      "source": [
        "En Python elaborar las 2 clases :\n",
        "\n",
        "1. Persona   \n",
        "    - atributos : Nombre, Edad y Estatura\n",
        "    - Métodos: Dormir y Comer\n",
        "\n",
        "2. Celular\n",
        "    - atributos: Marca, Modelo y espacio de Memoria\n",
        "    - Métodos: Llamar, poner alarma\n"
      ]
    },
    {
      "cell_type": "code",
      "metadata": {
        "id": "myuCyGGh2oFL",
        "outputId": "90d71cda-9fc3-484d-9c7f-a7227dbe2a23",
        "colab": {
          "base_uri": "https://localhost:8080/",
          "height": 35
        }
      },
      "source": [
        "class Persona:\n",
        "  def __init__(self , nom , eda, est):\n",
        "    self.__nombre = nom \n",
        "    self.__edad = eda\n",
        "    self.__estatura = est\n",
        "  def to_string(self): \n",
        "    return \"Nombre: \"+self.__nombre+\"Edad: \"+self.__edad+\"Estatura: \"+self.__estatura\n",
        "\n",
        "la_persona = Persona(\"Gabriel, \",\"19 años, \",\"1.69m\")\n",
        "print(la_persona.to_string())"
      ],
      "execution_count": 3,
      "outputs": [
        {
          "output_type": "stream",
          "text": [
            "Nombre: Gabriel, Edad: 19 años, Estatura: 1.69m\n"
          ],
          "name": "stdout"
        }
      ]
    },
    {
      "cell_type": "code",
      "metadata": {
        "id": "s8lDpj_R4HY3",
        "outputId": "8ce7724b-a543-4f8a-b298-fabfea055388",
        "colab": {
          "base_uri": "https://localhost:8080/",
          "height": 35
        }
      },
      "source": [
        "class Celular:\n",
        "  def __init__(self , mar , mod, mem):\n",
        "    self.__marca = mar \n",
        "    self.__modelo = mod\n",
        "    self.__memora = mem\n",
        "  def to_string(self): \n",
        "    return \"Marca: \"+self.__marca+\"Modelo: \"+self.__modelo+\"Memoria: \"+self.__memora\n",
        "\n",
        "el_cel = Celular(\"Xiaomi, \",\"Redmi Note 8, \",\"16GB\")\n",
        "print(el_cel.to_string())"
      ],
      "execution_count": 7,
      "outputs": [
        {
          "output_type": "stream",
          "text": [
            "Marca: Xiaomi, Modelo: Redmi Note 8, Memoria: 16GB\n"
          ],
          "name": "stdout"
        }
      ]
    }
  ]
}