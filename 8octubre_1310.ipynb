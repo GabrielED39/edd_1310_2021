{
  "nbformat": 4,
  "nbformat_minor": 0,
  "metadata": {
    "colab": {
      "name": "9octubre_1310.ipynb",
      "provenance": [],
      "authorship_tag": "ABX9TyOqVOpqnpgrTNbnFEbL49/C",
      "include_colab_link": true
    },
    "kernelspec": {
      "name": "python3",
      "display_name": "Python 3"
    }
  },
  "cells": [
    {
      "cell_type": "markdown",
      "metadata": {
        "id": "view-in-github",
        "colab_type": "text"
      },
      "source": [
        "<a href=\"https://colab.research.google.com/github/GabrielED39/edd_1310_2021/blob/master/8octubre_1310.ipynb\" target=\"_parent\"><img src=\"https://colab.research.google.com/assets/colab-badge.svg\" alt=\"Open In Colab\"/></a>"
      ]
    },
    {
      "cell_type": "code",
      "metadata": {
        "id": "IBA4KiTz_XzQ",
        "outputId": "bff8d3b8-6f94-411c-a57a-175bf536bf52",
        "colab": {
          "base_uri": "https://localhost:8080/",
          "height": 129
        }
      },
      "source": [
        "monitores =[[\"Samsung\",\"17.3 \\\"\",1024],[\"BenQ\",\"40\\\"\",2048]]\n",
        "procesadores = [[\"Intel\",\"i7\",3.4],[\"AMD\",\"razzer\",3.3],[\"Intel\",\"i3\",3.1]]\n",
        "memorias = [[\"Kingston\", \"8GB\",\"DDR4\"],[\"Kingston\", \"16GB\",\"DDR3\"],[\"ADATA\", \"32GB\",\"DDR4\"]]\n",
        "\n",
        "componentes = [monitores,procesadores,memorias]\n",
        "print(componentes)\n",
        "print(componentes [0][1][2]*2)\n",
        "print(componentes [2][2][0].lower())\n",
        "print(componentes [2].append([\"Patito\",\"32 GB\",\"DDR4\"]))\n",
        "print(componentes [2])\n"
      ],
      "execution_count": 33,
      "outputs": [
        {
          "output_type": "stream",
          "text": [
            "[[['Samsung', '17.3 \"', 1024], ['BenQ', '40\"', 2048]], [['Intel', 'i7', 3.4], ['AMD', 'razzer', 3.3], ['Intel', 'i3', 3.1]], [['Kingston', '8GB', 'DDR4'], ['Kingston', '16GB', 'DDR3'], ['ADATA', '32GB', 'DDR4']]]\n",
            "4096\n",
            "adata\n",
            "None\n",
            "[['Kingston', '8GB', 'DDR4'], ['Kingston', '16GB', 'DDR3'], ['ADATA', '32GB', 'DDR4'], ['Patito', '32 GB', 'DDR4']]\n"
          ],
          "name": "stdout"
        }
      ]
    },
    {
      "cell_type": "code",
      "metadata": {
        "id": "J7AhZsIbH6tj",
        "outputId": "97c10168-5af5-445b-a404-f56069b8d410",
        "colab": {
          "base_uri": "https://localhost:8080/",
          "height": 201
        }
      },
      "source": [
        "#Extender listas\n",
        "frutas = [\"manzana\",\"pera\"]\n",
        "otras_frutas  = [\"Aguacate\",\"Sandia\"]\n",
        "\n",
        "# + sobre listas\n",
        "#frutas = frutas + otras_frutas #\n",
        "#print (frutas)\n",
        "\n",
        "#funcion extend\n",
        "frutas.extend(otras_frutas) #Junta las listas en UNA\n",
        "print(frutas)\n",
        "\n",
        "frutas.append(otras_frutas) #Agrega lista dentro de OTRA lista\n",
        "print(frutas)\n",
        "\n",
        "#copiar lista\n",
        "\n",
        "colores = [\"azul\",\"rojo\",\"verde\",\"violeta\"]\n",
        "otros_colores = colores #crea una copia compartida\n",
        "print(colores)\n",
        "print(otros_colores)\n",
        "otros_colores.append(\"Rosa\")\n",
        "print(colores)\n",
        "print(otros_colores)\n",
        "\n",
        "una_mas = colores.copy ()#crea una copia independiente\n",
        "print(una_mas)\n",
        "una_mas.append(\"gris\")\n",
        "print(una_mas)\n",
        "print(colores)\n",
        "\n",
        "#unpaking de listas\n",
        "#alumno =[\"Jesus\",\"Perez\",\"Herrera\",22,\"ICO\",10.0]\n",
        "#nombre = alumno[0]\n",
        "#paterno = alumno[1]\n",
        "#etc........\n",
        "\n",
        "nombre,paterno,materno,edad,carrera,promedio = alumno #se requieren la misma cantidad de variables a la izquierda que numero de valores dentro de la lista a desempaquetar\n",
        "print(f\"Alumno: {nombre} carrera: { carrera} promedio: {promedio}\")"
      ],
      "execution_count": 44,
      "outputs": [
        {
          "output_type": "stream",
          "text": [
            "['manzana', 'pera', 'Aguacate', 'Sandia']\n",
            "['manzana', 'pera', 'Aguacate', 'Sandia', ['Aguacate', 'Sandia']]\n",
            "['azul', 'rojo', 'verde', 'violeta']\n",
            "['azul', 'rojo', 'verde', 'violeta']\n",
            "['azul', 'rojo', 'verde', 'violeta', 'Rosa']\n",
            "['azul', 'rojo', 'verde', 'violeta', 'Rosa']\n",
            "['azul', 'rojo', 'verde', 'violeta', 'Rosa']\n",
            "['azul', 'rojo', 'verde', 'violeta', 'Rosa', 'gris']\n",
            "['azul', 'rojo', 'verde', 'violeta', 'Rosa']\n",
            "Alumno: Jesus carrera: ICO promedio: 10.0\n"
          ],
          "name": "stdout"
        }
      ]
    },
    {
      "cell_type": "markdown",
      "metadata": {
        "id": "-WyxzanCR1wP"
      },
      "source": [
        "#Tuplas (conjunto de datos indexados)\n",
        "- se declaran con parentesis ( )\n",
        "- selector con corchetes [ ]\n",
        "- No son mutables #no se modifica los *valores*\n",
        "- Se comporta como una lista\n"
      ]
    },
    {
      "cell_type": "code",
      "metadata": {
        "id": "YejIHXRwSNz2",
        "outputId": "307acb6b-ae5b-4d79-c875-1489b486ad1c",
        "colab": {
          "base_uri": "https://localhost:8080/",
          "height": 72
        }
      },
      "source": [
        "precios = (99.9,49.9,12.45,23.3,33.44,55.66)\n",
        "print(precios[1])\n",
        "#precios[1] = 50.0\n",
        "print(precios)\n",
        "print(precios[2:4])"
      ],
      "execution_count": 48,
      "outputs": [
        {
          "output_type": "stream",
          "text": [
            "49.9\n",
            "(99.9, 49.9, 12.45, 23.3, 33.44, 55.66)\n",
            "(12.45, 23.3)\n"
          ],
          "name": "stdout"
        }
      ]
    },
    {
      "cell_type": "markdown",
      "metadata": {
        "id": "P6MJWwg7TmQP"
      },
      "source": [
        "#Diccionarios\n",
        "- se declara con { }\n",
        "- SON mutables\n",
        "- conjunto de pares llave: valor\n",
        "- equivalente a los Objetos JSON de JavaScript\n",
        "- su selector es [ string ] (el string es la llave)"
      ]
    },
    {
      "cell_type": "code",
      "metadata": {
        "id": "Stk1f640T6Vt",
        "outputId": "314e6585-6a20-4712-ef6f-5d8c20508e26",
        "colab": {
          "base_uri": "https://localhost:8080/",
          "height": 147
        }
      },
      "source": [
        "cliente = {   }\n",
        "print(cliente)\n",
        "alumno = { \"num_cta\" :3030303022}\n",
        "print(alumno)\n",
        "\n",
        "alumno ={\n",
        "         \"num_cta\" : 31722,\n",
        "         \"carrera\" : \"ICO\",\n",
        "         \"promedio\" : 9.8,\n",
        "         \"materias\" : [\"EDD\",\"CyP\",\"Calidad\",\"Emprendimiento\"],\n",
        "         \"direccion\" : {\n",
        "             \"calle\":\"rancho seco\",\n",
        "             \"numero\":23,\n",
        "             \"delegacion\":\"Neza\",\n",
        "             \"Estado\":{\n",
        "                 \"id\" :15,\n",
        "                 \"nombre\" : \"Estado de Mexico\",\n",
        "                 \"nombrecorto\":\"EdoMex\"\n",
        "             },\n",
        "             \"CP: \": 545454\n",
        "         }}\n",
        "\n",
        "\n",
        "print(alumno)\n",
        "print(alumno['materias'])\n",
        "print(alumno['promedio'])\n",
        "print(alumno['direccion']['Estado']['nombrecorto'])"
      ],
      "execution_count": 64,
      "outputs": [
        {
          "output_type": "stream",
          "text": [
            "{}\n",
            "{'num_cta': 3030303022}\n",
            "{'num_cta': 31722, 'carrera': 'ICO', 'promedio': 9.8, 'materias': ['EDD', 'CyP', 'Calidad', 'Emprendimiento'], 'direccion': {'calle': 'rancho seco', 'numero': 23, 'delegacion': 'Neza', 'Estado': {'id': 15, 'nombre': 'Estado de Mexico', 'nombrecorto': 'EdoMex'}, 'CP: ': 545454}}\n",
            "['EDD', 'CyP', 'Calidad', 'Emprendimiento']\n",
            "9.8\n",
            "EdoMex\n"
          ],
          "name": "stdout"
        }
      ]
    }
  ]
}