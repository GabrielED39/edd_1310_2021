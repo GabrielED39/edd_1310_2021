{
  "nbformat": 4,
  "nbformat_minor": 0,
  "metadata": {
    "colab": {
      "name": "1ocubre_1310.ipynb",
      "provenance": [],
      "authorship_tag": "ABX9TyNElWiGAUQh+I8GD3texYvS",
      "include_colab_link": true
    },
    "kernelspec": {
      "name": "python3",
      "display_name": "Python 3"
    }
  },
  "cells": [
    {
      "cell_type": "markdown",
      "metadata": {
        "id": "view-in-github",
        "colab_type": "text"
      },
      "source": [
        "<a href=\"https://colab.research.google.com/github/GabrielED39/edd_1310_2021/blob/master/1ocubre_1310.ipynb\" target=\"_parent\"><img src=\"https://colab.research.google.com/assets/colab-badge.svg\" alt=\"Open In Colab\"/></a>"
      ]
    },
    {
      "cell_type": "markdown",
      "metadata": {
        "id": "_dpvNJNy7snG"
      },
      "source": [
        "## Intro Python 3\n",
        "### Variables\n",
        "tipo dinamico\n",
        "escuela = \"FES Aragón\""
      ]
    },
    {
      "cell_type": "code",
      "metadata": {
        "id": "0iir_r777JVp",
        "outputId": "1eaf44e1-9f9e-42bc-d2d8-5ebcc428efed",
        "colab": {
          "base_uri": "https://localhost:8080/",
          "height": 182
        }
      },
      "source": [
        "escuela = \"FES Aragón\"\n",
        "print (escuela)\n",
        "print (\"-------\")\n",
        "edad = 13\n",
        "estatura = 1.67\n",
        "fumador = True \n",
        "frase = \"\"\"\n",
        "Esta es\n",
        "una\n",
        "frase de multiple linea\n",
        "y tambien es\n",
        "un tipo de dato\n",
        "\"\"\"\n",
        "print (frase)\n",
        "nombre = 'jose'\n",
        "nombre_completo = \"Jose Sosa Cardenas\"\n"
      ],
      "execution_count": 22,
      "outputs": [
        {
          "output_type": "stream",
          "text": [
            "FES Aragón\n",
            "-------\n",
            "\n",
            "Esta es\n",
            "una\n",
            "frase de multiple linea\n",
            "y tambien es\n",
            "un tipo de dato\n",
            "\n"
          ],
          "name": "stdout"
        }
      ]
    },
    {
      "cell_type": "markdown",
      "metadata": {
        "id": "_X2zOIFr91Vz"
      },
      "source": [
        "#Print\n",
        "con comas ,\n",
        "\n",
        "con signo mas +\n",
        "\n",
        "con format ()\n",
        "\n",
        "con operador f\"\""
      ]
    },
    {
      "cell_type": "code",
      "metadata": {
        "id": "eBP1b_En-C3D",
        "outputId": "49897746-f019-406e-e247-d269849c0eda",
        "colab": {
          "base_uri": "https://localhost:8080/",
          "height": 35
        }
      },
      "source": [
        "#\n",
        "print (nombre, edad)\n"
      ],
      "execution_count": 8,
      "outputs": [
        {
          "output_type": "stream",
          "text": [
            "Jose 13\n"
          ],
          "name": "stdout"
        }
      ]
    },
    {
      "cell_type": "code",
      "metadata": {
        "id": "zQcEI3XT_A6C",
        "outputId": "bf679f73-16de-4250-e96a-666b51ff809e",
        "colab": {
          "base_uri": "https://localhost:8080/",
          "height": 54
        }
      },
      "source": [
        "#El mas concatena CADENAS\n",
        "print (nombre+str(edad))\n",
        "#No tiene espacio por la concatenacion, a diferencia de la coma\n",
        "print (nombre+nombre_completo) #snake case (palabras minusculas separadas por guiones)"
      ],
      "execution_count": 11,
      "outputs": [
        {
          "output_type": "stream",
          "text": [
            "Jose13\n",
            "JoseJose Sosa Cardenas\n"
          ],
          "name": "stdout"
        }
      ]
    },
    {
      "cell_type": "code",
      "metadata": {
        "id": "yGoHjKl0ANaY",
        "outputId": "7751e634-3a6c-4a30-a1fe-02d69e7f281c",
        "colab": {
          "base_uri": "https://localhost:8080/",
          "height": 72
        }
      },
      "source": [
        "#Con formato -> Su nombre es Jose y su edad es 13 años.\n",
        "print (\"Su nombre es\", nombre, \"y su edad es de\",edad,\"años\")\n",
        "print (\"Su nombre es {0} y su edad es de {1} años.\".format(nombre,edad))\n",
        "print (\"Su nombre es {1} y su edad es de {0} años.\".format(nombre,edad))"
      ],
      "execution_count": 23,
      "outputs": [
        {
          "output_type": "stream",
          "text": [
            "Su nombre es jose y su edad es de 13 años\n",
            "Su nombre es jose y su edad es de 13 años.\n",
            "Su nombre es 13 y su edad es de jose años.\n"
          ],
          "name": "stdout"
        }
      ]
    },
    {
      "cell_type": "code",
      "metadata": {
        "id": "u54rWPPlBuDu",
        "outputId": "9f908aea-89f6-485d-cb34-78cbdda091a7",
        "colab": {
          "base_uri": "https://localhost:8080/",
          "height": 35
        }
      },
      "source": [
        "#Con formato con el operador f\"\"\n",
        "print(f\"Su nombre es {nombre} y su edad es de {edad} años.\")"
      ],
      "execution_count": 17,
      "outputs": [
        {
          "output_type": "stream",
          "text": [
            "Su nombre es Jose y su edad es de 13 años.\n"
          ],
          "name": "stdout"
        }
      ]
    },
    {
      "cell_type": "markdown",
      "metadata": {
        "id": "TEuGdkhWCtWN"
      },
      "source": [
        "#Caracter de escape\n",
        "\n",
        "\\n salto de linea\n",
        "\n",
        "\\t tabulador\n",
        "\n",
        "\\a beep\n",
        "\n",
        "\\\\\" (Imprime comilla doble)\n",
        "\n",
        "\\\\' (Imprime comilla simple)"
      ]
    },
    {
      "cell_type": "code",
      "metadata": {
        "id": "eFKGGeWVDKgu",
        "outputId": "17435362-573a-4807-c819-fc216810a094",
        "colab": {
          "base_uri": "https://localhost:8080/",
          "height": 54
        }
      },
      "source": [
        "\"\"\"\n",
        "Este es\n",
        "un\n",
        "comentario de multiple linea\n",
        "\"\"\"\n",
        "print(f\"\\tMi nombre es \\n\\t\\t {nombre}\")"
      ],
      "execution_count": 18,
      "outputs": [
        {
          "output_type": "stream",
          "text": [
            "\tMi nombre es \n",
            "\t\t Jose\n"
          ],
          "name": "stdout"
        }
      ]
    },
    {
      "cell_type": "markdown",
      "metadata": {
        "id": "HZD4PpQXDtfr"
      },
      "source": [
        "#Ayuda de tipos en Python\n",
        "dir() \n",
        "\n",
        "help()\n",
        "##Tipos de dato\n",
        "str, int, float, bool, list, dict,set\n",
        "\n",
        "###Ejem:\n",
        "help(str)"
      ]
    },
    {
      "cell_type": "code",
      "metadata": {
        "id": "KY2FjTLEELD-"
      },
      "source": [
        "help(str) #Para acceder a la informacion de los datos"
      ],
      "execution_count": null,
      "outputs": []
    },
    {
      "cell_type": "code",
      "metadata": {
        "id": "NCcciPkwFNAG",
        "outputId": "abd68bb3-1945-4808-e05c-25d5842e1c9e",
        "colab": {
          "base_uri": "https://localhost:8080/",
          "height": 54
        }
      },
      "source": [
        "#Primera letra en mayuscula\n",
        "print(nombre_completo.capitalize())\n",
        "#En mayusculas todo\n",
        "print(nombre_completo.upper() , end=\"------\") #end sirve para evitar el salto de linea y colocar otro caracter\n",
        "#Primeras letras de cada palabra en mayuscula\n",
        "print(nombre_completo.title())"
      ],
      "execution_count": 27,
      "outputs": [
        {
          "output_type": "stream",
          "text": [
            "Jose sosa cardenas\n",
            "JOSE SOSA CARDENAS------Jose Sosa Cardenas\n"
          ],
          "name": "stdout"
        }
      ]
    },
    {
      "cell_type": "code",
      "metadata": {
        "id": "JemcxJ0aGBVd"
      },
      "source": [
        "dir(print)"
      ],
      "execution_count": null,
      "outputs": []
    },
    {
      "cell_type": "markdown",
      "metadata": {
        "id": "nPvIR96yHCbu"
      },
      "source": [
        "##Clase String\n",
        "Se maneja como un arreglo (c o java) **o lista (python)**\n"
      ]
    },
    {
      "cell_type": "code",
      "metadata": {
        "id": "hAUIkIxgHFow",
        "outputId": "0f6bdb7a-b9ba-4eb0-c44d-63d681597609",
        "colab": {
          "base_uri": "https://localhost:8080/",
          "height": 54
        }
      },
      "source": [
        "telefono = \"Huawei mate 30 pro\" \n",
        "print (telefono[0])\n",
        "print (telefono[5])"
      ],
      "execution_count": 29,
      "outputs": [
        {
          "output_type": "stream",
          "text": [
            "H\n",
            "i\n"
          ],
          "name": "stdout"
        }
      ]
    },
    {
      "cell_type": "markdown",
      "metadata": {
        "id": "re99o4liIJ9N"
      },
      "source": [
        "#Slicing (rebanado)\n",
        "sintaxis: [inicio : stop : incremento]\n",
        "\n",
        "nota: el stop no se incluye, termina un numero anterior si se quiere el valor num 3 se coloca 4"
      ]
    },
    {
      "cell_type": "code",
      "metadata": {
        "id": "M-h8J2b_IcoE",
        "outputId": "d734447c-865b-44ba-eddf-370b46f8462e",
        "colab": {
          "base_uri": "https://localhost:8080/",
          "height": 127
        }
      },
      "source": [
        "print (telefono [7:11:1])\n",
        "#El inicio y el incremento son opcionales\n",
        "print (telefono [:11:]) #El valor por defecto del inicio es cero y el del incremento es uno\n",
        "#El valor por defecto del stop es length\n",
        "print (telefono [::])\n",
        "#incremento negativo \n",
        "print(telefono[::-1])\n",
        "#Comienza desde el final del str\n",
        "print(telefono[-3::1])\n",
        "#Tambien se pueden colocar variables dentro\n",
        "ini = -3\n",
        "inc = 1\n",
        "print(telefono[ini::inc])"
      ],
      "execution_count": 39,
      "outputs": [
        {
          "output_type": "stream",
          "text": [
            "mate\n",
            "Huawei mate\n",
            "Huawei mate 30 pro\n",
            "orp 03 etam iewauH\n",
            "pro\n",
            "pro\n"
          ],
          "name": "stdout"
        }
      ]
    },
    {
      "cell_type": "markdown",
      "metadata": {
        "id": "dvdyRUL_NLul"
      },
      "source": [
        "##Metodos de string (str)\n",
        "Existen metodos muy útiles en esta clase "
      ]
    },
    {
      "cell_type": "code",
      "metadata": {
        "id": "qmcU8KW0NWJO",
        "outputId": "639e356f-bf58-4fd5-9d92-72c06d7a5383",
        "colab": {
          "base_uri": "https://localhost:8080/",
          "height": 476
        }
      },
      "source": [
        "facultad = \"    facultad de estudios superiores aragon      \\n\"\n",
        "#Cuenta los el valor que este entre parentesis\n",
        "print(facultad.count(\" \"), end=\" \") \n",
        "print(facultad.count(\"f\"), end=\" \")\n",
        "print(facultad.count(\"s\"), end=\" \")\n",
        "print(facultad.count(\"u\"))\n",
        "print(\"-----------\")\n",
        "#Busca el indice del sub str buscado\n",
        "print(facultad.find(\"s\")) #la primer s esta en el espacio 17\n",
        "print(\"-----------\")\n",
        "#Dice el indice de la primer coincidencia\n",
        "print(facultad.index(\"s\"))\n",
        "print(\"-----------\")\n",
        "#Remueve los espacios en blanco y en linea (solo al principio y al final)\n",
        "print(facultad, \"ahah\")\n",
        "print(facultad.strip())\n",
        "print(\"-----------\")\n",
        "#imprime el numero de caracteres\n",
        "tamaño = len(facultad)\n",
        "print(len(facultad))\n",
        "print(f\"Tamaño de la cadena es: {tamaño} caracteres\")\n",
        "#Split divide la cadena en base a un caracter\n",
        "print(facultad)\n",
        "print(facultad.strip().split(\" \")) #En este caso strip elimina los espacios vacios y split tivide las palabras\n",
        "print(\"-----------\")\n",
        "#copiar cadena\n",
        "otra_cadena = facultad\n",
        "print(otra_cadena)\n",
        "facultad = \"FES Aragón\"\n",
        "print(facultad)\n",
        "print(otra_cadena)\n",
        "\n",
        "#copiar listas\n",
        "colores = [\"rojo\", \"verde\"]\n",
        "otra = colores\n",
        "print(colores)\n",
        "print(otra)\n",
        "otra.append(\"rosa\")\n",
        "print(colores)\n",
        "print(otra)"
      ],
      "execution_count": 73,
      "outputs": [
        {
          "output_type": "stream",
          "text": [
            "14 1 4 3\n",
            "-----------\n",
            "17\n",
            "-----------\n",
            "17\n",
            "-----------\n",
            "    facultad de estudios superiores aragon      \n",
            " ahah\n",
            "facultad de estudios superiores aragon\n",
            "-----------\n",
            "49\n",
            "Tamaño de la cadena es: 49 caracteres\n",
            "    facultad de estudios superiores aragon      \n",
            "\n",
            "['facultad', 'de', 'estudios', 'superiores', 'aragon']\n",
            "-----------\n",
            "    facultad de estudios superiores aragon      \n",
            "\n",
            "FES Aragón\n",
            "    facultad de estudios superiores aragon      \n",
            "\n",
            "['rojo', 'verde']\n",
            "['rojo', 'verde']\n",
            "['rojo', 'verde', 'rosa']\n",
            "['rojo', 'verde', 'rosa']\n"
          ],
          "name": "stdout"
        }
      ]
    }
  ]
}