{
  "nbformat": 4,
  "nbformat_minor": 0,
  "metadata": {
    "colab": {
      "name": "13Octubre_1310.ipynb",
      "provenance": [],
      "authorship_tag": "ABX9TyPHS7N+W0vG2+aQNByQl0HQ",
      "include_colab_link": true
    },
    "kernelspec": {
      "name": "python3",
      "display_name": "Python 3"
    }
  },
  "cells": [
    {
      "cell_type": "markdown",
      "metadata": {
        "id": "view-in-github",
        "colab_type": "text"
      },
      "source": [
        "<a href=\"https://colab.research.google.com/github/GabrielED39/edd_1310_2021/blob/master/13Octubre_1310.ipynb\" target=\"_parent\"><img src=\"https://colab.research.google.com/assets/colab-badge.svg\" alt=\"Open In Colab\"/></a>"
      ]
    },
    {
      "cell_type": "code",
      "metadata": {
        "id": "0iplsZnIsYBw",
        "outputId": "55dc8f27-4f30-441b-bf0f-e89aa11fffb4",
        "colab": {
          "base_uri": "https://localhost:8080/",
          "height": 110
        }
      },
      "source": [
        "alumno = { \n",
        "          \"num_cta\" : 303030303 ,\n",
        "          \"carrera\" : \"ICO\",\n",
        "          \"promedio\" : 9.8,\n",
        "          \"materias\" :[\"EDD\",\"CyP\",\"Calidad\",\"Emprendimiento\"],\n",
        "          \"direccion\" : { \n",
        "                            \"calle\":\"rancho seco\",\n",
        "                            \"numero\" : 23 ,\n",
        "                            \"delegacion\" : \"Neza\",\n",
        "                            \"estado\" : {\n",
        "                                        \"id\" : 15 ,\n",
        "                                        \"nombre\" : \"Estado de Máxico\" ,\n",
        "                                        \"nombre_corto\" : \"EdoMex\"\n",
        "                                        } ,\n",
        "                            \"CP\":57170\n",
        "\n",
        "                        } \n",
        "          }\n",
        "print (alumno)\n",
        "alumno['carrera'] = \"Ingenieria en Computación\" #diccionarios mutables\n",
        "print (alumno)\n",
        "alumno['nombre_completo']={'primer':\"Juan\",\n",
        "                           'segundo':\"Pedro\",\n",
        "                           'materno':\"Pérez\",\n",
        "                           'paterno':\"Gomez\"\n",
        "                           }\n",
        "                           \n",
        "alumno['semestre']=3\n",
        "print(alumno)\n",
        "\n",
        "print(f\"{alumno['nombre_completo']['primer']} {alumno['nombre_completo']['segundo']}\")"
      ],
      "execution_count": 9,
      "outputs": [
        {
          "output_type": "stream",
          "text": [
            "{'num_cta': 303030303, 'carrera': 'ICO', 'promedio': 9.8, 'materias': ['EDD', 'CyP', 'Calidad', 'Emprendimiento'], 'direccion': {'calle': 'rancho seco', 'numero': 23, 'delegacion': 'Neza', 'estado': {'id': 15, 'nombre': 'Estado de Máxico', 'nombre_corto': 'EdoMex'}, 'CP': 57170}}\n",
            "{'num_cta': 303030303, 'carrera': 'Ingenieria en Computación', 'promedio': 9.8, 'materias': ['EDD', 'CyP', 'Calidad', 'Emprendimiento'], 'direccion': {'calle': 'rancho seco', 'numero': 23, 'delegacion': 'Neza', 'estado': {'id': 15, 'nombre': 'Estado de Máxico', 'nombre_corto': 'EdoMex'}, 'CP': 57170}}\n",
            "{'num_cta': 303030303, 'carrera': 'Ingenieria en Computación', 'promedio': 9.8, 'materias': ['EDD', 'CyP', 'Calidad', 'Emprendimiento'], 'direccion': {'calle': 'rancho seco', 'numero': 23, 'delegacion': 'Neza', 'estado': {'id': 15, 'nombre': 'Estado de Máxico', 'nombre_corto': 'EdoMex'}, 'CP': 57170}, 'nombre_completo': {'primer': 'Juan', 'segundo': 'Pedro', 'materno': 'Pérez', 'paterno': 'Gomez'}, 'semestre': 3}\n",
            "Juan Pedro\n"
          ],
          "name": "stdout"
        }
      ]
    },
    {
      "cell_type": "code",
      "metadata": {
        "id": "SA44LHv8wcfm",
        "outputId": "534da787-dbf4-404d-b72f-67c016172d7b",
        "colab": {
          "base_uri": "https://localhost:8080/",
          "height": 459
        }
      },
      "source": [
        "#keys(),values() ,items()\n",
        "#keys regresa las variables en un diccionario\n",
        "llaves = alumno.keys()\n",
        "print(llaves)\n",
        "for llave in llaves:\n",
        "  print(llave.upper())\n",
        "\n",
        "valores=alumno.values()\n",
        "for val in valores:\n",
        "  print(val)\n",
        "\n",
        "pares=alumno.items()\n",
        "print(pares)\n",
        "for elem in pares:\n",
        "  print(f\"el campo{elem[0]} tiene el avlor {elem[1]}\")"
      ],
      "execution_count": 17,
      "outputs": [
        {
          "output_type": "stream",
          "text": [
            "dict_keys(['num_cta', 'carrera', 'promedio', 'materias', 'direccion', 'nombre_completo', 'semestre'])\n",
            "NUM_CTA\n",
            "CARRERA\n",
            "PROMEDIO\n",
            "MATERIAS\n",
            "DIRECCION\n",
            "NOMBRE_COMPLETO\n",
            "SEMESTRE\n",
            "303030303\n",
            "Ingenieria en Computación\n",
            "9.8\n",
            "['EDD', 'CyP', 'Calidad', 'Emprendimiento']\n",
            "{'calle': 'rancho seco', 'numero': 23, 'delegacion': 'Neza', 'estado': {'id': 15, 'nombre': 'Estado de Máxico', 'nombre_corto': 'EdoMex'}, 'CP': 57170}\n",
            "{'primer': 'Juan', 'segundo': 'Pedro', 'materno': 'Pérez', 'paterno': 'Gomez'}\n",
            "3\n",
            "dict_items([('num_cta', 303030303), ('carrera', 'Ingenieria en Computación'), ('promedio', 9.8), ('materias', ['EDD', 'CyP', 'Calidad', 'Emprendimiento']), ('direccion', {'calle': 'rancho seco', 'numero': 23, 'delegacion': 'Neza', 'estado': {'id': 15, 'nombre': 'Estado de Máxico', 'nombre_corto': 'EdoMex'}, 'CP': 57170}), ('nombre_completo', {'primer': 'Juan', 'segundo': 'Pedro', 'materno': 'Pérez', 'paterno': 'Gomez'}), ('semestre', 3)])\n",
            "el camponum_cta tiene el avlor 303030303\n",
            "el campocarrera tiene el avlor Ingenieria en Computación\n",
            "el campopromedio tiene el avlor 9.8\n",
            "el campomaterias tiene el avlor ['EDD', 'CyP', 'Calidad', 'Emprendimiento']\n",
            "el campodireccion tiene el avlor {'calle': 'rancho seco', 'numero': 23, 'delegacion': 'Neza', 'estado': {'id': 15, 'nombre': 'Estado de Máxico', 'nombre_corto': 'EdoMex'}, 'CP': 57170}\n",
            "el camponombre_completo tiene el avlor {'primer': 'Juan', 'segundo': 'Pedro', 'materno': 'Pérez', 'paterno': 'Gomez'}\n",
            "el camposemestre tiene el avlor 3\n"
          ],
          "name": "stdout"
        }
      ]
    },
    {
      "cell_type": "code",
      "metadata": {
        "id": "_bjqyydq073b",
        "outputId": "c6870660-0eb4-419b-8388-61621850da3f",
        "colab": {
          "base_uri": "https://localhost:8080/",
          "height": 35
        }
      },
      "source": [
        "#Concatenar dicionarios\n",
        "computadora = {\"procesador\":\"Intel i7\",\"ram\":\"Kingston 128GB\"}\n",
        "otros = {\"monitor\":\"LG 49\\\"\",\"hd\":\"Toshiba 1TB\"}\n",
        "computadora.update(otros)#update anexa los diccionarios a computadora (en este caso)\n",
        "print(computadora)"
      ],
      "execution_count": 20,
      "outputs": [
        {
          "output_type": "stream",
          "text": [
            "{'procesador': 'Intel i7', 'ram': 'Kingston 128GB', 'monitor': 'LG 49\"', 'hd': 'Toshiba 1TB'}\n"
          ],
          "name": "stdout"
        }
      ]
    },
    {
      "cell_type": "markdown",
      "metadata": {
        "id": "pPGnJ2P82qiR"
      },
      "source": [
        "#Funciones (modularidad)\n",
        "- son unidades de codigo reutilizable\n",
        "- es un mecanismo\n",
        "- una funcion de 0 a n paranetros de entrada \n",
        "- tiene una sola salida (return) de cualquier tipo de dato\n",
        "- solo puedes hacer dos cosas:\n",
        "  - definirla\n",
        "  - llamarla\n",
        "- se definen con la palabra reservada 'def'"
      ]
    },
    {
      "cell_type": "code",
      "metadata": {
        "id": "kx57LMIg3xJH",
        "outputId": "096fa509-856a-4d8d-f72f-ec1edb9cc6b0",
        "colab": {
          "base_uri": "https://localhost:8080/",
          "height": 219
        }
      },
      "source": [
        "#definir\n",
        "def sumar(x,y):\n",
        "  resultado = x + y\n",
        "  return resultado\n",
        "\n",
        "def saludar( nombre):\n",
        "  print(f\"Hola{nombre}, ¿Cómo estas?\")\n",
        "  \n",
        "\n",
        "#llamar\n",
        "\n",
        "def multiplicar(valor,veces):\n",
        "  if valor != None:\n",
        "    c = valor * veces\n",
        "  else:\n",
        "    c = \"Operacion no valida\"\n",
        "  return c\n",
        "\n",
        "def operacion(a,b,c):\n",
        "  res = a+(b/c)\n",
        "  return res\n",
        "\n",
        "\n",
        "print(sumar(10,5))\n",
        "print(sumar(2,6))\n",
        "c=sumar(3,7)\n",
        "print(c)\n",
        "saludar(\"Jesus\")\n",
        "print(saludar('jose'))\n",
        "#procesar none\n",
        "print (multiplicar(5,6))\n",
        "print (multiplicar(None,6))\n",
        "\n",
        "print(operacion(2,9,3))\n",
        "print(operacion(2,3,9))\n",
        "print(operacion(a=2,c=3,b=9))"
      ],
      "execution_count": 31,
      "outputs": [
        {
          "output_type": "stream",
          "text": [
            "15\n",
            "8\n",
            "10\n",
            "HolaJesus, ¿Cómo estas?\n",
            "Holajose, ¿Cómo estas?\n",
            "None\n",
            "30\n",
            "Operacion no valida\n",
            "5.0\n",
            "2.3333333333333335\n",
            "5.0\n"
          ],
          "name": "stdout"
        }
      ]
    },
    {
      "cell_type": "code",
      "metadata": {
        "id": "d8Wi1P8j-i6w",
        "outputId": "36518d73-a66c-4ed1-c22c-2150ceceda6c",
        "colab": {
          "base_uri": "https://localhost:8080/",
          "height": 313
        }
      },
      "source": [
        "#valores por defecto\n",
        "def comanda(primer,fuerte,postre = \"Galleta\"):\n",
        "  print(f\"De entrada pidio:{primer}\")\n",
        "  print(f\"De plato fuerte pidio:{fuerte}\")\n",
        "  print(f\"De postre pidio:{postre}\")\n",
        "\n",
        "#argumentos posicionales con tuplas *\n",
        "def comandados(*opciones):\n",
        "  print (opciones)\n",
        "  print(f\"De entrada pidio:{opciones[0]}\")\n",
        "  print(f\"De plato fuerte pidio:{opciones[1]}\")\n",
        "  print(f\"De postre pidio:{opciones[2]}\")\n",
        "  print(\"\\nIndicaciones extra:\")\n",
        "  for ind in opciones[3::]:\n",
        "    print(f\"\\t {ind}\")\n",
        "\n",
        "comanda (\"sopa\",\"tortas de papa\",\"gelatina de limon\")\n",
        "comanda (\"sopa\",\"tortas de papa\")\n",
        "comandados (\"sopa\",\"tortas de papa\",\"gelatina de limon\",\n",
        "            \"las tortas bien doradas\", \"traer dos limones\",\"agua con hielo\")"
      ],
      "execution_count": 42,
      "outputs": [
        {
          "output_type": "stream",
          "text": [
            "De entrada pidio:sopa\n",
            "De plato fuerte pidio:tortas de papa\n",
            "De postre pidio:gelatina de limon\n",
            "De entrada pidio:sopa\n",
            "De plato fuerte pidio:tortas de papa\n",
            "De postre pidio:Galleta\n",
            "('sopa', 'tortas de papa', 'gelatina de limon', 'las tortas bien doradas', 'traer dos limones', 'agua con hielo')\n",
            "De entrada pidio:sopa\n",
            "De plato fuerte pidio:tortas de papa\n",
            "De postre pidio:gelatina de limon\n",
            "\n",
            "Indicaciones extra:\n",
            "\t las tortas bien doradas\n",
            "\t traer dos limones\n",
            "\t agua con hielo\n"
          ],
          "name": "stdout"
        }
      ]
    },
    {
      "cell_type": "code",
      "metadata": {
        "id": "wkSB6lFZB5Fu",
        "outputId": "83354948-e7e1-47da-dca8-b79a39d5fbcd",
        "colab": {
          "base_uri": "https://localhost:8080/",
          "height": 166
        }
      },
      "source": [
        "#argumentos posicionales con diccionarios **\n",
        "def comanda_3 (**opciones):\n",
        "  print(opciones)\n",
        "  for op in opciones.items():\n",
        "    print(f\"{op[0]} -> {op[1]}\")\n",
        "\n",
        "comanda_3 (primer=\"sopa\",fuerte=\"tortas de papa\",postre=\"gelatina de limon\",\n",
        "            extra1=\"las tortas bien doradas\",extra2=\"traer dos limones\",extra3=\"agua con hielo\")"
      ],
      "execution_count": 47,
      "outputs": [
        {
          "output_type": "stream",
          "text": [
            "{'primer': 'sopa', 'fuerte': 'tortas de papa', 'postre': 'gelatina de limon', 'extra1': 'las tortas bien doradas', 'extra2': 'traer dos limones', 'extra3': 'agua con hielo'}\n",
            "primer -> sopa\n",
            "fuerte -> tortas de papa\n",
            "postre -> gelatina de limon\n",
            "extra1 -> las tortas bien doradas\n",
            "extra2 -> traer dos limones\n",
            "extra3 -> agua con hielo\n"
          ],
          "name": "stdout"
        }
      ]
    }
  ]
}