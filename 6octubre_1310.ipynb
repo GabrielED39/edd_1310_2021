{
  "nbformat": 4,
  "nbformat_minor": 0,
  "metadata": {
    "colab": {
      "name": "6octubre_1310",
      "provenance": [],
      "authorship_tag": "ABX9TyNfWoBtqwUWX98TIQc8VB3g",
      "include_colab_link": true
    },
    "kernelspec": {
      "name": "python3",
      "display_name": "Python 3"
    }
  },
  "cells": [
    {
      "cell_type": "markdown",
      "metadata": {
        "id": "view-in-github",
        "colab_type": "text"
      },
      "source": [
        "<a href=\"https://colab.research.google.com/github/GabrielED39/edd_1310_2021/blob/master/6octubre_1310.ipynb\" target=\"_parent\"><img src=\"https://colab.research.google.com/assets/colab-badge.svg\" alt=\"Open In Colab\"/></a>"
      ]
    },
    {
      "cell_type": "code",
      "metadata": {
        "id": "Q4Py_ZlIqOyK"
      },
      "source": [
        "#Strings continuación\n",
        "\n",
        "numeros_txt =\"   1,2,3, 4  , 5 , 35  , 15 ,12\"\n",
        "print(numeros_txt)\n",
        "numeros_txt = numeros_txt.lstrip().split(',')\n",
        "print(numeros_txt) #se imprime como arreglo\n",
        "\n",
        "for j in range(len(numeros_txt)):\n",
        "  numeros_txt[ j ] = int(numeros_txt[ j ].strip())\n",
        "\n",
        "print(numeros_txt)\n",
        "print(\"-------------\")\n",
        "#funcion range\n",
        "#range(inicio; stop; incremento)\n",
        "print (range(0,10,3))\n",
        "rango = range (1,10,2)\n",
        "\n",
        "for x in rango:\n",
        "  print(x)\n",
        "\n",
        "rango = range(10)\n",
        "for x in rango:\n",
        "  print (x)\n"
      ],
      "execution_count": null,
      "outputs": []
    },
    {
      "cell_type": "markdown",
      "metadata": {
        "id": "Up5vXBqpxEEY"
      },
      "source": [
        "#Listas\n",
        "- Son mutuables (\n",
        "- Se declaran con corchetes cuadrados ([ ])\n",
        "- Selector [ int ]\n",
        "- Pueden ser de cualquier tipo y mezclado\n",
        "\n",
        "#Tuplas\n",
        "- No mutables\n",
        "- Se declaran con parentesis ()\n",
        "- Selector [int]\n",
        "\n",
        "#Diccionarios\n",
        "- Son mutables\n",
        "- Equivalentes a los objetos JSON de JavaScript\n",
        "- Conjunto de pares llave:valor\n",
        "\n",
        "#Conjuntos\n",
        "- Representacion de la teoria de conjuntos"
      ]
    },
    {
      "cell_type": "code",
      "metadata": {
        "id": "H2uJEac0xC3j",
        "outputId": "d926d5b2-9f46-4d0d-99f1-2a56e9d74557",
        "colab": {
          "base_uri": "https://localhost:8080/",
          "height": 182
        }
      },
      "source": [
        "#Listas\n",
        "frutas = [\"pera\", \"manzana\", \"fresa\", \"kiwi\", \"naranja\"]\n",
        "print (frutas)\n",
        "cosas = [\"cuaderno\",2 ,3.1416 ,True ,False ,[\"Rojo\",\"Azul\"]]\n",
        "print(cosas)\n",
        "frutas[2]=\"Fresa\"  #frutas[2]= frutas[2].capitalize()\n",
        "print(frutas)\n",
        "#agregar a una lista\n",
        "frutas.append(\"Aguacate\") #append siempre agrega en la posision final\n",
        "print (frutas)\n",
        "frutas.insert(2,\"Sandia\") #insert permite agregar en el espacio deseado\n",
        "print (frutas)\n",
        "print (\"-------\")\n",
        "#concatenar listas\n",
        "fecha = [\"06\", \"10\", \"2020\"] #06/10/2020\n",
        "print(fecha)\n",
        "fecha_str = \"/\".join(fecha)\n",
        "print(fecha_str)\n",
        "print (\"-------\")\n"
      ],
      "execution_count": 50,
      "outputs": [
        {
          "output_type": "stream",
          "text": [
            "['pera', 'manzana', 'fresa', 'kiwi', 'naranja']\n",
            "['cuaderno', 2, 3.1416, True, False, ['Rojo', 'Azul']]\n",
            "['pera', 'manzana', 'Fresa', 'kiwi', 'naranja']\n",
            "['pera', 'manzana', 'Fresa', 'kiwi', 'naranja', 'Aguacate']\n",
            "['pera', 'manzana', 'Sandia', 'Fresa', 'kiwi', 'naranja', 'Aguacate']\n",
            "-------\n",
            "['06', '10', '2020']\n",
            "06/10/2020\n",
            "-------\n"
          ],
          "name": "stdout"
        }
      ]
    },
    {
      "cell_type": "code",
      "metadata": {
        "id": "I6KKlXcb7cCn",
        "outputId": "76585c3a-ae87-48fa-db6d-16fed9e66885",
        "colab": {
          "base_uri": "https://localhost:8080/",
          "height": 127
        }
      },
      "source": [
        "#slicing\n",
        "\n",
        "cosas = [\"cuaderno\",2 ,3.1416 ,True ,False ,[\"Rojo\",\"Azul\"]]\n",
        "print (cosas[3:5:1])\n",
        "print (cosas[0][3:5])#se selecciona primero el string, y despues se hace slicing del mismo\n",
        "\n",
        "numeros = [0,1,2,3,4,5,6,7,8,9,10,11,12,13,14,15]\n",
        "print(numeros[8:13])\n",
        "\n",
        "#sustituir rebanadas -2,-2 -> 0,1,2,3,4,5,6,7,-2,-2,13,14,15\n",
        "numeros[8:13] = [-2,-2]\n",
        "print(numeros)\n",
        "\n",
        "#preguntar por existencia\n",
        "print( -2 in numeros)\n",
        "print( 100 in numeros)\n"
      ],
      "execution_count": 63,
      "outputs": [
        {
          "output_type": "stream",
          "text": [
            "[True, False]\n",
            "de\n",
            "[8, 9, 10, 11, 12]\n",
            "[0, 1, 2, 3, 4, 5, 6, 7, -2, -2, 13, 14, 15]\n",
            "True\n",
            "False\n"
          ],
          "name": "stdout"
        }
      ]
    },
    {
      "cell_type": "code",
      "metadata": {
        "id": "1GNhi8jxz0Ol"
      },
      "source": [
        "help(str)"
      ],
      "execution_count": null,
      "outputs": []
    },
    {
      "cell_type": "code",
      "metadata": {
        "id": "aPrfWat63RAz"
      },
      "source": [
        "#Eliminar elementos\n",
        "cosas = [\"cuaderno\",2 ,3.1416 ,True ,False ,[\"Rojo\",\"Azul\"]]\n",
        "print (cosas)\n",
        "cosas.append(\"Libro\")\n",
        "cosas.append(\"Lapiz\")\n",
        "print (cosas)\n",
        "algo = cosas.pop()#elimina el ultimo por default\n",
        "print (cosas)\n",
        "print(algo)\n",
        "\n",
        "algo = cosas.pop(2)#elimina el elemento seleccionado\n",
        "print (cosas)\n",
        "print (algo)\n",
        "cosas.remove(2) #remove elimina algo en concreto(solo la primer coincidencia que encuentra)\n",
        "print(cosas)\n",
        "print (\"------\")\n",
        "\n",
        "#vaciar lista\n",
        "#cosas.clear()\n",
        "print(cosas)\n",
        "\n",
        "#ordenar\n",
        "print(frutas)\n",
        "frutas.sort() #forma alfabetica los datod deben tener congruencia entre ellos\n",
        "print(frutas)\n",
        "\n",
        "#cosas.sort() #no se puede por la diferencia de datos en la lista (marca error)\n"
      ],
      "execution_count": null,
      "outputs": []
    },
    {
      "cell_type": "markdown",
      "metadata": {
        "id": "QkvxkkrX-mUN"
      },
      "source": [
        "#Listas multi dimensón\n",
        "\n",
        "Lista dentro de lista"
      ]
    },
    {
      "cell_type": "code",
      "metadata": {
        "id": "aYjS0zuo-lvm",
        "outputId": "30af2da9-487e-4f7c-eb4b-53719f43c84c",
        "colab": {
          "base_uri": "https://localhost:8080/",
          "height": 201
        }
      },
      "source": [
        "computadoras = [\"HP\", \"Mac Book Pro 17\", \"Mate book\", \"Lenovo legion\"]\n",
        "sist_op = [\"Windows 10\", \"Linux\", \"Android\", \"iOS\"]\n",
        "\n",
        "#Lista de dos dimensiones\n",
        "computo = [computadoras,sist_op]\n",
        "print(computo[0])\n",
        "print(computo[1])\n",
        "print(computo[0][2])\n",
        "print(computo[0][2][0:5])\n",
        "print(computo[0][3][5: :-1])\n",
        "print(computo[0][3][-8: :-1])\n",
        "print(\"Linux\" in sist_op[1])\n",
        "dbms = [[\"mySQL\",\"Open Source\",False], [\"MS SQL Server\", \"de paga\", True]]\n",
        "computo.append(dbms)\n",
        "print(computo)\n",
        "print(computo[2][0][0])\n",
        "print(computo[2][1][1])"
      ],
      "execution_count": 82,
      "outputs": [
        {
          "output_type": "stream",
          "text": [
            "['HP', 'Mac Book Pro 17', 'Mate book', 'Lenovo legion']\n",
            "['Windows 10', 'Linux', 'Android', 'iOS']\n",
            "Mate book\n",
            "Mate \n",
            "ovoneL\n",
            "ovoneL\n",
            "True\n",
            "[['HP', 'Mac Book Pro 17', 'Mate book', 'Lenovo legion'], ['Windows 10', 'Linux', 'Android', 'iOS'], [['mySQL', 'Open Source', False], ['MS SQL Server', 'de paga', True]]]\n",
            "mySQL\n",
            "de paga\n"
          ],
          "name": "stdout"
        }
      ]
    }
  ]
}